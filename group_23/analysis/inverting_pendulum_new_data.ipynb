{
  "cells": [
    {
      "cell_type": "markdown",
      "metadata": {
        "id": "view-in-github",
        "colab_type": "text"
      },
      "source": [
        "<a href=\"https://colab.research.google.com/github/b-karthiknair/pinn-optimization-cs4240-2024/blob/dev/group_23/analysis/new_data/inverting_pendulum_new_data.ipynb\" target=\"_parent\"><img src=\"https://colab.research.google.com/assets/colab-badge.svg\" alt=\"Open In Colab\"/></a>"
      ]
    },
    {
      "cell_type": "code",
      "execution_count": null,
      "metadata": {
        "id": "VyJ_ose2WXgv"
      },
      "outputs": [],
      "source": [
        "!pip install deepxde"
      ]
    },
    {
      "cell_type": "code",
      "execution_count": null,
      "metadata": {
        "id": "EJPk1BwGWIxC"
      },
      "outputs": [],
      "source": [
        "#import os\n",
        "#os.environ[\"CUDA_VISIBLE_DEVICES\"] = \"-1\"\n",
        "\n",
        "import deepxde as dde\n",
        "import numpy as np\n",
        "import tensorflow as tf\n",
        "import matplotlib.pyplot as plt\n"
      ]
    },
    {
      "cell_type": "code",
      "execution_count": null,
      "metadata": {
        "id": "xjIj8r30WQ3z"
      },
      "outputs": [],
      "source": [
        "# Set random seed\n",
        "seed = 0\n",
        "np.random.seed(seed)\n",
        "tf.random.set_seed(seed)\n",
        "dde.backend.tf.random.set_random_seed(seed)"
      ]
    },
    {
      "cell_type": "code",
      "execution_count": null,
      "metadata": {
        "id": "tcLWRHuLWlkW"
      },
      "outputs": [],
      "source": [
        "# Set hyperparameters\n",
        "n_output = 2 # theta, torq_norm\n",
        "\n",
        "num_domain = 1000\n",
        "\n",
        "n_adam = 5000\n",
        "\n",
        "lr = 2e-2 # for Adam\n",
        "loss_weights = [1., 10., 1., 1., 1.]"
      ]
    },
    {
      "cell_type": "code",
      "execution_count": null,
      "metadata": {
        "id": "pk5kHhGWWpjB"
      },
      "outputs": [],
      "source": [
        "# Set physical parameters\n",
        "tmin, tmax = 0.0, 10.0\n",
        "m = 1.\n",
        "l = 1.\n",
        "g = 9.8\n",
        "torq_max = 1.5\n",
        "target = -1.\n",
        "\n",
        "# custom parameters\n",
        "b = 0.\n",
        "noise = 0."
      ]
    },
    {
      "cell_type": "code",
      "execution_count": null,
      "metadata": {
        "id": "K8uhwt0SWsr_"
      },
      "outputs": [],
      "source": [
        "\n",
        "class Custom_BC(dde.icbc.BC):\n",
        "    def __init__(self, geom, func, on_boundary, component=0):\n",
        "        super().__init__(geom, on_boundary, component)\n",
        "        self.func = dde.icbc.boundary_conditions.npfunc_range_autocache(dde.utils.return_tensor(func))\n",
        "\n",
        "    def error(self, X, inputs, outputs, beg, end, aux_var=None):\n",
        "        values = self.func(X, beg, end, aux_var)\n",
        "        theta = outputs[:, 0:1]\n",
        "        goal = tf.cos(theta)\n",
        "        return goal[beg:end, self.component:self.component + 1] - values\n"
      ]
    },
    {
      "cell_type": "code",
      "execution_count": null,
      "metadata": {
        "id": "xSY6IJ9eWvi7"
      },
      "outputs": [],
      "source": [
        "\n",
        "def ode(t, u):\n",
        "    theta, torq_norm = u[:, 0:1], tf.tanh(u[:, 1:2])\n",
        "    torq_ext = torq_max * torq_norm\n",
        "    theta_t = dde.grad.jacobian(theta, t)\n",
        "    theta_tt = dde.grad.jacobian(theta_t, t)\n",
        "    noise_factor = np.random.normal(0., noise, 1)[0]\n",
        "\n",
        "    torq_actual = m * l * l * theta_tt + m * g * l * tf.sin(theta) + b * theta_t\n",
        "    torq_actual += noise_factor * torq_actual\n",
        "\n",
        "    ode = torq_actual - torq_ext\n",
        "    return ode\n",
        "\n",
        "def initial(_, on_initial):\n",
        "    return on_initial\n",
        "\n",
        "def boundary_left(t, on_boundary):\n",
        "    return on_boundary * np.isclose(t[0], tmin)\n",
        "\n",
        "def boundary_right(t, on_boundary):\n",
        "    return on_boundary * np.isclose(t[0], tmax)\n"
      ]
    },
    {
      "cell_type": "code",
      "execution_count": null,
      "metadata": {
        "id": "AqftILfyWyvr"
      },
      "outputs": [],
      "source": [
        "\n",
        "geom = dde.geometry.TimeDomain(tmin, tmax)\n",
        "ic1 = dde.icbc.IC(geom, lambda t: np.array([0.]), initial, component=0)\n",
        "ic2 = dde.icbc.IC(geom, lambda t: np.array([0.]), initial, component=1)\n",
        "ic3 = dde.icbc.NeumannBC(geom, lambda t: np.array([0.]), boundary_left, component=0)\n",
        "opt = Custom_BC(geom, lambda t: np.array([target]), boundary_right) # custom ICBC\n",
        "data = dde.data.PDE(geom, ode, [ic1, ic2, ic3, opt], num_domain=num_domain, num_boundary=2)"
      ]
    },
    {
      "cell_type": "code",
      "execution_count": null,
      "metadata": {
        "id": "rkWdHK0nW1Ts"
      },
      "outputs": [],
      "source": [
        "\n",
        "net = dde.nn.FNN([1] + [64] * 3 + [n_output], \"tanh\", \"Glorot normal\")\n",
        "\n",
        "resampler = dde.callbacks.PDEPointResampler(period=100)\n",
        "#dde.optimizers.config.set_LBFGS_options(ftol=np.nan, gtol=np.nan, maxiter=8000, maxfun=8000)\n",
        "\n",
        "model = dde.Model(data, net)\n",
        "model.compile(\"adam\", lr=lr, loss_weights=loss_weights)\n",
        "losshistory, train_state = model.train(display_every=10, iterations=n_adam, callbacks=[resampler])\n",
        "model.compile(\"L-BFGS\", loss_weights=loss_weights)\n"
      ]
    },
    {
      "cell_type": "code",
      "execution_count": null,
      "metadata": {
        "id": "dZ1KdLY5W65J"
      },
      "outputs": [],
      "source": [
        "losshistory, train_state = model.train(display_every=10)\n",
        "\n",
        "dde.saveplot(losshistory, train_state, issave=True, isplot=True)\n",
        "model.save('saved_model')\n",
        "\n",
        "t = np.linspace(tmin, tmax, 101)\n",
        "uu = model.predict(np.array([t]).T)\n",
        "plt.plot(t, uu[:, 0])\n",
        "plt.plot(t, np.tanh(uu[:, 1]))\n",
        "plt.show()"
      ]
    },
    {
      "cell_type": "code",
      "execution_count": null,
      "metadata": {
        "id": "yjsCDGHJXT9Z"
      },
      "outputs": [],
      "source": [
        "uu[:,0][-1],np.tanh(uu[:,1])[-1]"
      ]
    },
    {
      "cell_type": "code",
      "execution_count": null,
      "metadata": {
        "id": "QwkN6p9QgaQU"
      },
      "outputs": [],
      "source": []
    }
  ],
  "metadata": {
    "colab": {
      "provenance": [],
      "include_colab_link": true
    },
    "kernelspec": {
      "display_name": "Python 3",
      "name": "python3"
    },
    "language_info": {
      "name": "python"
    }
  },
  "nbformat": 4,
  "nbformat_minor": 0
}